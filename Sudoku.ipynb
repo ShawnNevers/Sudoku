{
  "nbformat": 4,
  "nbformat_minor": 0,
  "metadata": {
    "colab": {
      "provenance": [],
      "authorship_tag": "ABX9TyPRMH58gxOFVKlxrGU9mFSk",
      "include_colab_link": true
    },
    "kernelspec": {
      "name": "python3",
      "display_name": "Python 3"
    },
    "language_info": {
      "name": "python"
    }
  },
  "cells": [
    {
      "cell_type": "markdown",
      "metadata": {
        "id": "view-in-github",
        "colab_type": "text"
      },
      "source": [
        "<a href=\"https://colab.research.google.com/github/ShawnNevers/Sudoku/blob/main/Sudoku.ipynb\" target=\"_parent\"><img src=\"https://colab.research.google.com/assets/colab-badge.svg\" alt=\"Open In Colab\"/></a>"
      ]
    },
    {
      "cell_type": "code",
      "source": [
        "!pip install dash\n",
        "!pip install numpy\n",
        "!pip install pyomo\n"
      ],
      "metadata": {
        "colab": {
          "base_uri": "https://localhost:8080/"
        },
        "collapsed": true,
        "id": "ePK4dHXJhw1p",
        "outputId": "e9943053-975c-4245-a451-05df8f1b5940"
      },
      "execution_count": null,
      "outputs": [
        {
          "output_type": "stream",
          "name": "stdout",
          "text": [
            "Collecting dash\n",
            "  Downloading dash-2.17.1-py3-none-any.whl.metadata (10 kB)\n",
            "Requirement already satisfied: Flask<3.1,>=1.0.4 in /usr/local/lib/python3.10/dist-packages (from dash) (2.2.5)\n",
            "Requirement already satisfied: Werkzeug<3.1 in /usr/local/lib/python3.10/dist-packages (from dash) (3.0.4)\n",
            "Requirement already satisfied: plotly>=5.0.0 in /usr/local/lib/python3.10/dist-packages (from dash) (5.15.0)\n",
            "Collecting dash-html-components==2.0.0 (from dash)\n",
            "  Downloading dash_html_components-2.0.0-py3-none-any.whl.metadata (3.8 kB)\n",
            "Collecting dash-core-components==2.0.0 (from dash)\n",
            "  Downloading dash_core_components-2.0.0-py3-none-any.whl.metadata (2.9 kB)\n",
            "Collecting dash-table==5.0.0 (from dash)\n",
            "  Downloading dash_table-5.0.0-py3-none-any.whl.metadata (2.4 kB)\n",
            "Requirement already satisfied: importlib-metadata in /usr/local/lib/python3.10/dist-packages (from dash) (8.4.0)\n",
            "Requirement already satisfied: typing-extensions>=4.1.1 in /usr/local/lib/python3.10/dist-packages (from dash) (4.12.2)\n",
            "Requirement already satisfied: requests in /usr/local/lib/python3.10/dist-packages (from dash) (2.32.3)\n",
            "Collecting retrying (from dash)\n",
            "  Downloading retrying-1.3.4-py3-none-any.whl.metadata (6.9 kB)\n",
            "Requirement already satisfied: nest-asyncio in /usr/local/lib/python3.10/dist-packages (from dash) (1.6.0)\n",
            "Requirement already satisfied: setuptools in /usr/local/lib/python3.10/dist-packages (from dash) (71.0.4)\n",
            "Requirement already satisfied: Jinja2>=3.0 in /usr/local/lib/python3.10/dist-packages (from Flask<3.1,>=1.0.4->dash) (3.1.4)\n",
            "Requirement already satisfied: itsdangerous>=2.0 in /usr/local/lib/python3.10/dist-packages (from Flask<3.1,>=1.0.4->dash) (2.2.0)\n",
            "Requirement already satisfied: click>=8.0 in /usr/local/lib/python3.10/dist-packages (from Flask<3.1,>=1.0.4->dash) (8.1.7)\n",
            "Requirement already satisfied: tenacity>=6.2.0 in /usr/local/lib/python3.10/dist-packages (from plotly>=5.0.0->dash) (9.0.0)\n",
            "Requirement already satisfied: packaging in /usr/local/lib/python3.10/dist-packages (from plotly>=5.0.0->dash) (24.1)\n",
            "Requirement already satisfied: MarkupSafe>=2.1.1 in /usr/local/lib/python3.10/dist-packages (from Werkzeug<3.1->dash) (2.1.5)\n",
            "Requirement already satisfied: zipp>=0.5 in /usr/local/lib/python3.10/dist-packages (from importlib-metadata->dash) (3.20.1)\n",
            "Requirement already satisfied: charset-normalizer<4,>=2 in /usr/local/lib/python3.10/dist-packages (from requests->dash) (3.3.2)\n",
            "Requirement already satisfied: idna<4,>=2.5 in /usr/local/lib/python3.10/dist-packages (from requests->dash) (3.8)\n",
            "Requirement already satisfied: urllib3<3,>=1.21.1 in /usr/local/lib/python3.10/dist-packages (from requests->dash) (2.0.7)\n",
            "Requirement already satisfied: certifi>=2017.4.17 in /usr/local/lib/python3.10/dist-packages (from requests->dash) (2024.7.4)\n",
            "Requirement already satisfied: six>=1.7.0 in /usr/local/lib/python3.10/dist-packages (from retrying->dash) (1.16.0)\n",
            "Downloading dash-2.17.1-py3-none-any.whl (7.5 MB)\n",
            "\u001b[2K   \u001b[90m━━━━━━━━━━━━━━━━━━━━━━━━━━━━━━━━━━━━━━━━\u001b[0m \u001b[32m7.5/7.5 MB\u001b[0m \u001b[31m37.4 MB/s\u001b[0m eta \u001b[36m0:00:00\u001b[0m\n",
            "\u001b[?25hDownloading dash_core_components-2.0.0-py3-none-any.whl (3.8 kB)\n",
            "Downloading dash_html_components-2.0.0-py3-none-any.whl (4.1 kB)\n",
            "Downloading dash_table-5.0.0-py3-none-any.whl (3.9 kB)\n",
            "Downloading retrying-1.3.4-py3-none-any.whl (11 kB)\n",
            "Installing collected packages: dash-table, dash-html-components, dash-core-components, retrying, dash\n",
            "Successfully installed dash-2.17.1 dash-core-components-2.0.0 dash-html-components-2.0.0 dash-table-5.0.0 retrying-1.3.4\n",
            "Requirement already satisfied: numpy in /usr/local/lib/python3.10/dist-packages (1.26.4)\n",
            "Collecting pyomo\n",
            "  Downloading Pyomo-6.8.0-cp310-cp310-manylinux_2_17_x86_64.manylinux2014_x86_64.whl.metadata (8.0 kB)\n",
            "Collecting ply (from pyomo)\n",
            "  Downloading ply-3.11-py2.py3-none-any.whl.metadata (844 bytes)\n",
            "Downloading Pyomo-6.8.0-cp310-cp310-manylinux_2_17_x86_64.manylinux2014_x86_64.whl (13.3 MB)\n",
            "\u001b[2K   \u001b[90m━━━━━━━━━━━━━━━━━━━━━━━━━━━━━━━━━━━━━━━━\u001b[0m \u001b[32m13.3/13.3 MB\u001b[0m \u001b[31m77.4 MB/s\u001b[0m eta \u001b[36m0:00:00\u001b[0m\n",
            "\u001b[?25hDownloading ply-3.11-py2.py3-none-any.whl (49 kB)\n",
            "\u001b[2K   \u001b[90m━━━━━━━━━━━━━━━━━━━━━━━━━━━━━━━━━━━━━━━━\u001b[0m \u001b[32m49.6/49.6 kB\u001b[0m \u001b[31m4.8 MB/s\u001b[0m eta \u001b[36m0:00:00\u001b[0m\n",
            "\u001b[?25hInstalling collected packages: ply, pyomo\n",
            "Successfully installed ply-3.11 pyomo-6.8.0\n"
          ]
        }
      ]
    },
    {
      "cell_type": "code",
      "source": [
        "!apt-get install -y -qq glpk-utils\n"
      ],
      "metadata": {
        "colab": {
          "base_uri": "https://localhost:8080/"
        },
        "collapsed": true,
        "id": "jQIYk8HFN-1a",
        "outputId": "4974a1c0-d352-4062-85cd-ed742464e553"
      },
      "execution_count": null,
      "outputs": [
        {
          "output_type": "stream",
          "name": "stdout",
          "text": [
            "Selecting previously unselected package libsuitesparseconfig5:amd64.\n",
            "(Reading database ... \r(Reading database ... 5%\r(Reading database ... 10%\r(Reading database ... 15%\r(Reading database ... 20%\r(Reading database ... 25%\r(Reading database ... 30%\r(Reading database ... 35%\r(Reading database ... 40%\r(Reading database ... 45%\r(Reading database ... 50%\r(Reading database ... 55%\r(Reading database ... 60%\r(Reading database ... 65%\r(Reading database ... 70%\r(Reading database ... 75%\r(Reading database ... 80%\r(Reading database ... 85%\r(Reading database ... 90%\r(Reading database ... 95%\r(Reading database ... 100%\r(Reading database ... 123597 files and directories currently installed.)\n",
            "Preparing to unpack .../libsuitesparseconfig5_1%3a5.10.1+dfsg-4build1_amd64.deb ...\n",
            "Unpacking libsuitesparseconfig5:amd64 (1:5.10.1+dfsg-4build1) ...\n",
            "Selecting previously unselected package libamd2:amd64.\n",
            "Preparing to unpack .../libamd2_1%3a5.10.1+dfsg-4build1_amd64.deb ...\n",
            "Unpacking libamd2:amd64 (1:5.10.1+dfsg-4build1) ...\n",
            "Selecting previously unselected package libcolamd2:amd64.\n",
            "Preparing to unpack .../libcolamd2_1%3a5.10.1+dfsg-4build1_amd64.deb ...\n",
            "Unpacking libcolamd2:amd64 (1:5.10.1+dfsg-4build1) ...\n",
            "Selecting previously unselected package libglpk40:amd64.\n",
            "Preparing to unpack .../libglpk40_5.0-1_amd64.deb ...\n",
            "Unpacking libglpk40:amd64 (5.0-1) ...\n",
            "Selecting previously unselected package glpk-utils.\n",
            "Preparing to unpack .../glpk-utils_5.0-1_amd64.deb ...\n",
            "Unpacking glpk-utils (5.0-1) ...\n",
            "Setting up libsuitesparseconfig5:amd64 (1:5.10.1+dfsg-4build1) ...\n",
            "Setting up libamd2:amd64 (1:5.10.1+dfsg-4build1) ...\n",
            "Setting up libcolamd2:amd64 (1:5.10.1+dfsg-4build1) ...\n",
            "Setting up libglpk40:amd64 (5.0-1) ...\n",
            "Setting up glpk-utils (5.0-1) ...\n",
            "Processing triggers for man-db (2.10.2-1) ...\n",
            "Processing triggers for libc-bin (2.35-0ubuntu3.4) ...\n",
            "/sbin/ldconfig.real: /usr/local/lib/libur_loader.so.0 is not a symbolic link\n",
            "\n",
            "/sbin/ldconfig.real: /usr/local/lib/libtbbmalloc_proxy.so.2 is not a symbolic link\n",
            "\n",
            "/sbin/ldconfig.real: /usr/local/lib/libtbbbind.so.3 is not a symbolic link\n",
            "\n",
            "/sbin/ldconfig.real: /usr/local/lib/libtbbbind_2_0.so.3 is not a symbolic link\n",
            "\n",
            "/sbin/ldconfig.real: /usr/local/lib/libur_adapter_level_zero.so.0 is not a symbolic link\n",
            "\n",
            "/sbin/ldconfig.real: /usr/local/lib/libtbbmalloc.so.2 is not a symbolic link\n",
            "\n",
            "/sbin/ldconfig.real: /usr/local/lib/libtbb.so.12 is not a symbolic link\n",
            "\n",
            "/sbin/ldconfig.real: /usr/local/lib/libur_adapter_opencl.so.0 is not a symbolic link\n",
            "\n",
            "/sbin/ldconfig.real: /usr/local/lib/libtbbbind_2_5.so.3 is not a symbolic link\n",
            "\n"
          ]
        }
      ]
    },
    {
      "cell_type": "code",
      "source": [
        "import numpy as np\n",
        "import pyomo.environ as pyo\n",
        "from collections import defaultdict"
      ],
      "metadata": {
        "id": "SPrt_HU2hT6g"
      },
      "execution_count": null,
      "outputs": []
    },
    {
      "cell_type": "code",
      "source": [
        "# @title Initiate Sets, Params, and variables\n",
        "\n",
        "initial_dict = defaultdict(lambda: 0)\n",
        "\n",
        "model = pyo.AbstractModel()\n",
        "model.MacroRow = pyo.Set()\n",
        "model.MacroCol= pyo.Set()\n",
        "model.row= pyo.Set()\n",
        "model.column= pyo.Set()\n",
        "model.num= pyo.Set()\n",
        "\n",
        "model.initials= pyo.Param(model.MacroRow, model.row, model.MacroCol, model.column)\n",
        "model.correct_values=pyo.Var(model.MacroRow, model.row, model.MacroCol, model.column, model.num, within=pyo.Binary)\n",
        "\n",
        "range_3 = [i for i in range(3)]\n",
        "value_tuple_list = []\n",
        "cell_mapping = {}\n",
        "result_mapping = {}\n",
        "for maj_row in range_3:\n",
        "  for min_row in range_3:\n",
        "    for maj_col in range_3:\n",
        "      for min_col in range_3:\n",
        "        row = maj_row * 3 + min_row\n",
        "        col = maj_col * 3 + min_col\n",
        "        value_tuple = tuple((maj_row, min_row, maj_col, min_col))\n",
        "        value_tuple_list.append((maj_row, min_row, maj_col, min_col))\n",
        "        cell_mapping[row, col] = (maj_row, min_row, maj_col, min_col)\n",
        "        result_mapping[maj_row, min_row, maj_col, min_col] = row, col\n",
        "\n",
        "soduku_data = {\n",
        "    None: {\n",
        "    'MacroRow': range_3,\n",
        "    'row': range_3,\n",
        "    'MacroCol': range_3,\n",
        "    'column': range_3,\n",
        "    'num': [1,2,3,4,5,6,7,8,9],\n",
        "    'initials': initial_dict\n",
        "    }\n",
        "}\n",
        "soduku_data"
      ],
      "metadata": {
        "colab": {
          "base_uri": "https://localhost:8080/"
        },
        "cellView": "form",
        "id": "GURDeF6Hh89Q",
        "outputId": "5ae9af1d-da7c-4d61-8cf9-4cfc268adeb6"
      },
      "execution_count": null,
      "outputs": [
        {
          "output_type": "execute_result",
          "data": {
            "text/plain": [
              "{None: {'MacroRow': [0, 1, 2],\n",
              "  'row': [0, 1, 2],\n",
              "  'MacroCol': [0, 1, 2],\n",
              "  'column': [0, 1, 2],\n",
              "  'num': [1, 2, 3, 4, 5, 6, 7, 8, 9],\n",
              "  'initials': defaultdict(<function __main__.<lambda>()>, {})}}"
            ]
          },
          "metadata": {},
          "execution_count": 5
        }
      ]
    },
    {
      "cell_type": "code",
      "source": [
        "# @title Objective and Constraints\n",
        "\n",
        "def objective_rule(model):\n",
        "    return sum(model.correct_values[i,j,k,l,n] for i in model.MacroRow for j in model.MacroCol for k in model.row for l in model.column for n in model.num)\n",
        "model.minCost = pyo.Objective(rule=objective_rule,sense=pyo.minimize)\n",
        "\n",
        "# Initial values set\n",
        "def Input_Rule(model,i,j,k,l,n):\n",
        "  if model.initials[i,j,k,l] in model.num:\n",
        "    return model.correct_values[i,j,k,l,model.initials[i,j,k,l]] == 1\n",
        "  else:\n",
        "    return pyo.Constraint.Skip\n",
        "model.InputRule = pyo.Constraint(model.MacroRow, model.row, model.MacroCol, model.column, model.num, rule=Input_Rule)\n",
        "\n",
        "# 1 num per row\n",
        "def Row_rule(model,i,k,n):\n",
        "    return sum(model.correct_values[i, k, j, l, n] for j in model.MacroCol for l in model.column)==1\n",
        "model.RowRule= pyo.Constraint(model.MacroRow, model.row, model.num, rule=Row_rule)\n",
        "\n",
        "# 1 num per column\n",
        "def Col_rule(model,j,l,n):\n",
        "    return sum(model.correct_values[i, k, j, l, n] for i in model.MacroRow for k in model.row)==1\n",
        "model.ColumnRule= pyo.Constraint(model.MacroCol, model.column, model.num, rule=Col_rule)\n",
        "\n",
        "# 1 num per 3x3 box\n",
        "def Box_rule(model,i,j,n):\n",
        "    return sum(model.correct_values[i, k, j, l, n] for k in model.row for l in model.column)==1\n",
        "model.BoxRule= pyo.Constraint(model.MacroRow, model.MacroCol, model.num, rule=Box_rule)\n",
        "\n",
        "# 1 num per cell\n",
        "def Cell_rule(model,i,j,k,l):\n",
        "    return sum(model.correct_values[i, k, j, l, n] for n in model.num)==1\n",
        "model.CellRule= pyo.Constraint(model.MacroRow, model.MacroCol, model.row, model.column, rule=Cell_rule)\n",
        "\n"
      ],
      "metadata": {
        "cellView": "form",
        "id": "T3MZFGRat5AS"
      },
      "execution_count": null,
      "outputs": []
    },
    {
      "cell_type": "code",
      "source": [
        "# @title Calculate Result Function\n",
        "optimizer= pyo.SolverFactory('glpk')\n",
        "def create_solve_update(soduku_grid, soduku_data):\n",
        "  instance= model.create_instance(data = soduku_data)\n",
        "  optimizer.solve(instance)\n",
        "  for i in instance.correct_values:\n",
        "    if instance.correct_values[i].value == 1:\n",
        "      soduku_grid[result_mapping[i[:4]][0]][result_mapping[i[:4]][1]] = i[4]\n",
        "  return instance\n",
        "# create_solve_update(soduku_grid, soduku_data).display()\n"
      ],
      "metadata": {
        "cellView": "form",
        "id": "2z9qjz7ZX8VC"
      },
      "execution_count": null,
      "outputs": []
    },
    {
      "cell_type": "code",
      "source": [
        "# @title Running App\n",
        "\n",
        "\n",
        "from dash import dcc, html\n",
        "from dash.dependencies import Input, Output\n",
        "\n",
        "from dash import Dash, dash_table, dcc, html, Input, Output, callback\n",
        "import pprint\n",
        "import numpy as np\n",
        "\n",
        "def np_to_table(np_array, id_value, editable=False):\n",
        "  rows, columns = np_array.shape\n",
        "  table = dash_table.DataTable(\n",
        "        id=id_value,\n",
        "        columns=[{\n",
        "            'id': 'column-{}'.format(i),\n",
        "            'name': ''.format(i+1)\n",
        "\n",
        "\n",
        "        } for i in range(columns)],\n",
        "        data=[\n",
        "            {'column-{}'.format(col): np_array[row][col] if np_array[row][col] else '' for col in range(columns)}\n",
        "            for row in range(rows)\n",
        "        ],\n",
        "\n",
        "        editable=True,\n",
        "            style_cell={\n",
        "            'textAlign': 'center',\n",
        "            'minWidth': '1px', 'width': '10px', 'maxWidth': '20px',\n",
        "            'whiteSpace': 'normal'},\n",
        "            style_table={'overflowX': 'auto', 'width':400},\n",
        "    )\n",
        "  return table\n",
        "\n",
        "soduku_grid = np.zeros((9,9))\n",
        "\n",
        "app = Dash(__name__)\n",
        "\n",
        "app.layout = html.Div([\n",
        "    html.Div('Input Grid'),\n",
        "    np_to_table(soduku_grid, 'editing-prune-data', True),\n",
        "    html.Div(id='editing-prune-data-output')\n",
        "])\n",
        "\n",
        "\n",
        "@callback(Output('editing-prune-data-output', 'children'),\n",
        "              Input('editing-prune-data', 'data'))\n",
        "def display_output(rows):\n",
        "    pruned_rows = []\n",
        "    recalculate_result_test_list = []\n",
        "    for index, row in enumerate(rows):\n",
        "        # require that all elements in a row are specified\n",
        "        for col_index, val in enumerate(row.values()):\n",
        "          input_val = int(val) if val != '' else 0\n",
        "          soduku_grid[index][col_index] = input_val\n",
        "          soduku_data_index = cell_mapping[index, col_index]\n",
        "          soduku_data[None]['initials'][soduku_data_index] = input_val\n",
        "          recalculate_result_test_list.append(input_val if input_val in range(10) else 0)\n",
        "    recalculate_result = not all([val == 0 for val in recalculate_result_test_list]) and all([val in range(10) for val in recalculate_result_test_list])\n",
        "    if recalculate_result:\n",
        "      create_solve_update(soduku_grid, soduku_data)\n",
        "    return html.Div([\n",
        "        html.Div('Result'),\n",
        "        np_to_table(soduku_grid, 'result') if recalculate_result else html.Div('No Solution')\n",
        "    ])\n",
        "\n",
        "app.run()"
      ],
      "metadata": {
        "colab": {
          "base_uri": "https://localhost:8080/",
          "height": 671
        },
        "cellView": "form",
        "id": "A3n9bDUhs1eJ",
        "outputId": "edb0beb0-cd4b-4741-b737-3f8170b87399"
      },
      "execution_count": null,
      "outputs": [
        {
          "output_type": "display_data",
          "data": {
            "text/plain": [
              "<IPython.core.display.Javascript object>"
            ],
            "application/javascript": [
              "(async (port, path, width, height, cache, element) => {\n",
              "    if (!google.colab.kernel.accessAllowed && !cache) {\n",
              "      return;\n",
              "    }\n",
              "    element.appendChild(document.createTextNode(''));\n",
              "    const url = await google.colab.kernel.proxyPort(port, {cache});\n",
              "    const iframe = document.createElement('iframe');\n",
              "    iframe.src = new URL(path, url).toString();\n",
              "    iframe.height = height;\n",
              "    iframe.width = width;\n",
              "    iframe.style.border = 0;\n",
              "    iframe.allow = [\n",
              "        'accelerometer',\n",
              "        'autoplay',\n",
              "        'camera',\n",
              "        'clipboard-read',\n",
              "        'clipboard-write',\n",
              "        'gyroscope',\n",
              "        'magnetometer',\n",
              "        'microphone',\n",
              "        'serial',\n",
              "        'usb',\n",
              "        'xr-spatial-tracking',\n",
              "    ].join('; ');\n",
              "    element.appendChild(iframe);\n",
              "  })(8050, \"/\", \"100%\", 650, false, window.element)"
            ]
          },
          "metadata": {}
        }
      ]
    },
    {
      "cell_type": "code",
      "source": [],
      "metadata": {
        "id": "LnJzxG_LJjc6"
      },
      "execution_count": null,
      "outputs": []
    }
  ]
}